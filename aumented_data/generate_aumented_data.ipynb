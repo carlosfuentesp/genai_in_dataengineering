{
 "cells": [
  {
   "cell_type": "code",
   "execution_count": 1,
   "metadata": {},
   "outputs": [
    {
     "name": "stdout",
     "output_type": "stream",
     "text": [
      "Requirement already satisfied: pandas in /Users/carlosfuentes/Downloads/GenAI DE/venv/lib/python3.11/site-packages (2.2.2)\n",
      "Requirement already satisfied: numpy>=1.23.2 in /Users/carlosfuentes/Downloads/GenAI DE/venv/lib/python3.11/site-packages (from pandas) (2.1.1)\n",
      "Requirement already satisfied: python-dateutil>=2.8.2 in /Users/carlosfuentes/Downloads/GenAI DE/venv/lib/python3.11/site-packages (from pandas) (2.9.0.post0)\n",
      "Requirement already satisfied: pytz>=2020.1 in /Users/carlosfuentes/Downloads/GenAI DE/venv/lib/python3.11/site-packages (from pandas) (2024.2)\n",
      "Requirement already satisfied: tzdata>=2022.7 in /Users/carlosfuentes/Downloads/GenAI DE/venv/lib/python3.11/site-packages (from pandas) (2024.1)\n",
      "Requirement already satisfied: six>=1.5 in /Users/carlosfuentes/Downloads/GenAI DE/venv/lib/python3.11/site-packages (from python-dateutil>=2.8.2->pandas) (1.16.0)\n",
      "Requirement already satisfied: openai in /Users/carlosfuentes/Downloads/GenAI DE/venv/lib/python3.11/site-packages (1.45.0)\n",
      "Requirement already satisfied: anyio<5,>=3.5.0 in /Users/carlosfuentes/Downloads/GenAI DE/venv/lib/python3.11/site-packages (from openai) (4.4.0)\n",
      "Requirement already satisfied: distro<2,>=1.7.0 in /Users/carlosfuentes/Downloads/GenAI DE/venv/lib/python3.11/site-packages (from openai) (1.9.0)\n",
      "Requirement already satisfied: httpx<1,>=0.23.0 in /Users/carlosfuentes/Downloads/GenAI DE/venv/lib/python3.11/site-packages (from openai) (0.27.2)\n",
      "Requirement already satisfied: jiter<1,>=0.4.0 in /Users/carlosfuentes/Downloads/GenAI DE/venv/lib/python3.11/site-packages (from openai) (0.5.0)\n",
      "Requirement already satisfied: pydantic<3,>=1.9.0 in /Users/carlosfuentes/Downloads/GenAI DE/venv/lib/python3.11/site-packages (from openai) (2.9.1)\n",
      "Requirement already satisfied: sniffio in /Users/carlosfuentes/Downloads/GenAI DE/venv/lib/python3.11/site-packages (from openai) (1.3.1)\n",
      "Requirement already satisfied: tqdm>4 in /Users/carlosfuentes/Downloads/GenAI DE/venv/lib/python3.11/site-packages (from openai) (4.66.5)\n",
      "Requirement already satisfied: typing-extensions<5,>=4.11 in /Users/carlosfuentes/Downloads/GenAI DE/venv/lib/python3.11/site-packages (from openai) (4.12.2)\n",
      "Requirement already satisfied: idna>=2.8 in /Users/carlosfuentes/Downloads/GenAI DE/venv/lib/python3.11/site-packages (from anyio<5,>=3.5.0->openai) (3.8)\n",
      "Requirement already satisfied: certifi in /Users/carlosfuentes/Downloads/GenAI DE/venv/lib/python3.11/site-packages (from httpx<1,>=0.23.0->openai) (2024.8.30)\n",
      "Requirement already satisfied: httpcore==1.* in /Users/carlosfuentes/Downloads/GenAI DE/venv/lib/python3.11/site-packages (from httpx<1,>=0.23.0->openai) (1.0.5)\n",
      "Requirement already satisfied: h11<0.15,>=0.13 in /Users/carlosfuentes/Downloads/GenAI DE/venv/lib/python3.11/site-packages (from httpcore==1.*->httpx<1,>=0.23.0->openai) (0.14.0)\n",
      "Requirement already satisfied: annotated-types>=0.6.0 in /Users/carlosfuentes/Downloads/GenAI DE/venv/lib/python3.11/site-packages (from pydantic<3,>=1.9.0->openai) (0.7.0)\n",
      "Requirement already satisfied: pydantic-core==2.23.3 in /Users/carlosfuentes/Downloads/GenAI DE/venv/lib/python3.11/site-packages (from pydantic<3,>=1.9.0->openai) (2.23.3)\n"
     ]
    }
   ],
   "source": [
    "!pip install pandas\n",
    "!pip install openai"
   ]
  },
  {
   "cell_type": "code",
   "execution_count": 2,
   "metadata": {},
   "outputs": [],
   "source": [
    "import pandas as pd\n",
    "from openai import OpenAI\n",
    "import json"
   ]
  },
  {
   "cell_type": "code",
   "execution_count": 3,
   "metadata": {},
   "outputs": [],
   "source": [
    "client = OpenAI(api_key='')\n",
    "\n",
    "def clean(dict_variable):\n",
    "    return next(iter(dict_variable.values()))"
   ]
  },
  {
   "cell_type": "code",
   "execution_count": 4,
   "metadata": {},
   "outputs": [
    {
     "name": "stdout",
     "output_type": "stream",
     "text": [
      "Original data:\n",
      "[\n",
      "  {\n",
      "    \"id\": 1,\n",
      "    \"age\": 25,\n",
      "    \"income\": 50000\n",
      "  },\n",
      "  {\n",
      "    \"id\": 2,\n",
      "    \"age\": 40,\n",
      "    \"income\": 75000\n",
      "  }\n",
      "]\n"
     ]
    }
   ],
   "source": [
    "# Original dataset\n",
    "original_data = [\n",
    "    {\"id\": 1, \"age\": 25, \"income\": 50000},\n",
    "    {\"id\": 2, \"age\": 40, \"income\": 75000}\n",
    "]\n",
    "\n",
    "print(\"Original data:\")\n",
    "print(json.dumps(original_data, indent=2))"
   ]
  },
  {
   "cell_type": "code",
   "execution_count": 5,
   "metadata": {},
   "outputs": [
    {
     "name": "stdout",
     "output_type": "stream",
     "text": [
      "Augmented data:\n",
      "[\n",
      "  {\n",
      "    \"id\": 1,\n",
      "    \"age\": 25,\n",
      "    \"income\": 50000\n",
      "  },\n",
      "  {\n",
      "    \"id\": 2,\n",
      "    \"age\": 40,\n",
      "    \"income\": 75000\n",
      "  },\n",
      "  {\n",
      "    \"id\": 3,\n",
      "    \"age\": 30,\n",
      "    \"income\": 60000\n",
      "  },\n",
      "  {\n",
      "    \"id\": 4,\n",
      "    \"age\": 55,\n",
      "    \"income\": 90000\n",
      "  },\n",
      "  {\n",
      "    \"id\": 5,\n",
      "    \"age\": 45,\n",
      "    \"income\": 80000\n",
      "  }\n",
      "]\n"
     ]
    }
   ],
   "source": [
    "prompt = f\"Generate 3 new data points similar to these, maintaining realistic relationships between age and income. Output in JSON form: {json.dumps(original_data)}\"\n",
    "\n",
    "response = client.chat.completions.create(\n",
    "    model=\"gpt-4o-mini\",\n",
    "    messages=[{\"role\": \"user\", \"content\": prompt}],\n",
    "    response_format={\"type\": \"json_object\"}\n",
    ")\n",
    "\n",
    "new_data = json.loads(response.choices[0].message.content)\n",
    "\n",
    "augmented_data = original_data + clean(new_data)\n",
    "\n",
    "print(\"Augmented data:\")\n",
    "print(json.dumps(augmented_data, indent=2))"
   ]
  },
  {
   "cell_type": "code",
   "execution_count": 6,
   "metadata": {},
   "outputs": [
    {
     "data": {
      "text/html": [
       "<div>\n",
       "<style scoped>\n",
       "    .dataframe tbody tr th:only-of-type {\n",
       "        vertical-align: middle;\n",
       "    }\n",
       "\n",
       "    .dataframe tbody tr th {\n",
       "        vertical-align: top;\n",
       "    }\n",
       "\n",
       "    .dataframe thead th {\n",
       "        text-align: right;\n",
       "    }\n",
       "</style>\n",
       "<table border=\"1\" class=\"dataframe\">\n",
       "  <thead>\n",
       "    <tr style=\"text-align: right;\">\n",
       "      <th></th>\n",
       "      <th>id</th>\n",
       "      <th>age</th>\n",
       "      <th>income</th>\n",
       "    </tr>\n",
       "  </thead>\n",
       "  <tbody>\n",
       "    <tr>\n",
       "      <th>0</th>\n",
       "      <td>1</td>\n",
       "      <td>25</td>\n",
       "      <td>50000</td>\n",
       "    </tr>\n",
       "    <tr>\n",
       "      <th>2</th>\n",
       "      <td>3</td>\n",
       "      <td>30</td>\n",
       "      <td>60000</td>\n",
       "    </tr>\n",
       "    <tr>\n",
       "      <th>1</th>\n",
       "      <td>2</td>\n",
       "      <td>40</td>\n",
       "      <td>75000</td>\n",
       "    </tr>\n",
       "    <tr>\n",
       "      <th>4</th>\n",
       "      <td>5</td>\n",
       "      <td>45</td>\n",
       "      <td>80000</td>\n",
       "    </tr>\n",
       "    <tr>\n",
       "      <th>3</th>\n",
       "      <td>4</td>\n",
       "      <td>55</td>\n",
       "      <td>90000</td>\n",
       "    </tr>\n",
       "  </tbody>\n",
       "</table>\n",
       "</div>"
      ],
      "text/plain": [
       "   id  age  income\n",
       "0   1   25   50000\n",
       "2   3   30   60000\n",
       "1   2   40   75000\n",
       "4   5   45   80000\n",
       "3   4   55   90000"
      ]
     },
     "execution_count": 6,
     "metadata": {},
     "output_type": "execute_result"
    }
   ],
   "source": [
    "pd.DataFrame(augmented_data).sort_values('age')"
   ]
  }
 ],
 "metadata": {
  "kernelspec": {
   "display_name": "venv",
   "language": "python",
   "name": "python3"
  },
  "language_info": {
   "codemirror_mode": {
    "name": "ipython",
    "version": 3
   },
   "file_extension": ".py",
   "mimetype": "text/x-python",
   "name": "python",
   "nbconvert_exporter": "python",
   "pygments_lexer": "ipython3",
   "version": "3.11.9"
  }
 },
 "nbformat": 4,
 "nbformat_minor": 2
}
