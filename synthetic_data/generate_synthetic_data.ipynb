{
 "cells": [
  {
   "cell_type": "code",
   "execution_count": 1,
   "metadata": {},
   "outputs": [
    {
     "name": "stdout",
     "output_type": "stream",
     "text": [
      "Requirement already satisfied: pandas in /Users/carlosfuentes/Downloads/GenAI DE/venv/lib/python3.11/site-packages (2.2.2)\n",
      "Requirement already satisfied: numpy>=1.23.2 in /Users/carlosfuentes/Downloads/GenAI DE/venv/lib/python3.11/site-packages (from pandas) (2.1.1)\n",
      "Requirement already satisfied: python-dateutil>=2.8.2 in /Users/carlosfuentes/Downloads/GenAI DE/venv/lib/python3.11/site-packages (from pandas) (2.9.0.post0)\n",
      "Requirement already satisfied: pytz>=2020.1 in /Users/carlosfuentes/Downloads/GenAI DE/venv/lib/python3.11/site-packages (from pandas) (2024.2)\n",
      "Requirement already satisfied: tzdata>=2022.7 in /Users/carlosfuentes/Downloads/GenAI DE/venv/lib/python3.11/site-packages (from pandas) (2024.1)\n",
      "Requirement already satisfied: six>=1.5 in /Users/carlosfuentes/Downloads/GenAI DE/venv/lib/python3.11/site-packages (from python-dateutil>=2.8.2->pandas) (1.16.0)\n",
      "Requirement already satisfied: openai in /Users/carlosfuentes/Downloads/GenAI DE/venv/lib/python3.11/site-packages (1.45.0)\n",
      "Requirement already satisfied: anyio<5,>=3.5.0 in /Users/carlosfuentes/Downloads/GenAI DE/venv/lib/python3.11/site-packages (from openai) (4.4.0)\n",
      "Requirement already satisfied: distro<2,>=1.7.0 in /Users/carlosfuentes/Downloads/GenAI DE/venv/lib/python3.11/site-packages (from openai) (1.9.0)\n",
      "Requirement already satisfied: httpx<1,>=0.23.0 in /Users/carlosfuentes/Downloads/GenAI DE/venv/lib/python3.11/site-packages (from openai) (0.27.2)\n",
      "Requirement already satisfied: jiter<1,>=0.4.0 in /Users/carlosfuentes/Downloads/GenAI DE/venv/lib/python3.11/site-packages (from openai) (0.5.0)\n",
      "Requirement already satisfied: pydantic<3,>=1.9.0 in /Users/carlosfuentes/Downloads/GenAI DE/venv/lib/python3.11/site-packages (from openai) (2.9.1)\n",
      "Requirement already satisfied: sniffio in /Users/carlosfuentes/Downloads/GenAI DE/venv/lib/python3.11/site-packages (from openai) (1.3.1)\n",
      "Requirement already satisfied: tqdm>4 in /Users/carlosfuentes/Downloads/GenAI DE/venv/lib/python3.11/site-packages (from openai) (4.66.5)\n",
      "Requirement already satisfied: typing-extensions<5,>=4.11 in /Users/carlosfuentes/Downloads/GenAI DE/venv/lib/python3.11/site-packages (from openai) (4.12.2)\n",
      "Requirement already satisfied: idna>=2.8 in /Users/carlosfuentes/Downloads/GenAI DE/venv/lib/python3.11/site-packages (from anyio<5,>=3.5.0->openai) (3.8)\n",
      "Requirement already satisfied: certifi in /Users/carlosfuentes/Downloads/GenAI DE/venv/lib/python3.11/site-packages (from httpx<1,>=0.23.0->openai) (2024.8.30)\n",
      "Requirement already satisfied: httpcore==1.* in /Users/carlosfuentes/Downloads/GenAI DE/venv/lib/python3.11/site-packages (from httpx<1,>=0.23.0->openai) (1.0.5)\n",
      "Requirement already satisfied: h11<0.15,>=0.13 in /Users/carlosfuentes/Downloads/GenAI DE/venv/lib/python3.11/site-packages (from httpcore==1.*->httpx<1,>=0.23.0->openai) (0.14.0)\n",
      "Requirement already satisfied: annotated-types>=0.6.0 in /Users/carlosfuentes/Downloads/GenAI DE/venv/lib/python3.11/site-packages (from pydantic<3,>=1.9.0->openai) (0.7.0)\n",
      "Requirement already satisfied: pydantic-core==2.23.3 in /Users/carlosfuentes/Downloads/GenAI DE/venv/lib/python3.11/site-packages (from pydantic<3,>=1.9.0->openai) (2.23.3)\n"
     ]
    }
   ],
   "source": [
    "!pip install pandas\n",
    "!pip install openai"
   ]
  },
  {
   "cell_type": "code",
   "execution_count": 2,
   "metadata": {},
   "outputs": [],
   "source": [
    "import pandas as pd\n",
    "from openai import OpenAI\n",
    "import json"
   ]
  },
  {
   "cell_type": "code",
   "execution_count": 3,
   "metadata": {},
   "outputs": [],
   "source": [
    "client = OpenAI(api_key='')\n",
    "\n",
    "def clean(dict_variable):\n",
    "    return next(iter(dict_variable.values()))"
   ]
  },
  {
   "cell_type": "code",
   "execution_count": 8,
   "metadata": {},
   "outputs": [
    {
     "name": "stdout",
     "output_type": "stream",
     "text": [
      "          date  total_sales\n",
      "0   2023-10-01          250\n",
      "1   2023-10-02          185\n",
      "2   2023-10-03          200\n",
      "3   2023-10-04          210\n",
      "4   2023-10-05          225\n",
      "5   2023-10-06          300\n",
      "6   2023-10-07          350\n",
      "7   2023-10-08          400\n",
      "8   2023-10-09          180\n",
      "9   2023-10-10          190\n",
      "10  2023-10-11          205\n",
      "11  2023-10-12          215\n",
      "12  2023-10-13          290\n",
      "13  2023-10-14          360\n",
      "14  2023-10-15          420\n",
      "15  2023-10-16          175\n",
      "16  2023-10-17          195\n",
      "17  2023-10-18          203\n",
      "18  2023-10-19          225\n",
      "19  2023-10-20          280\n",
      "20  2023-10-21          340\n",
      "21  2023-10-22          410\n",
      "22  2023-10-23          180\n",
      "23  2023-10-24          192\n",
      "24  2023-10-25          208\n",
      "25  2023-10-26          220\n",
      "26  2023-10-27          290\n",
      "27  2023-10-28          370\n",
      "28  2023-10-29          430\n",
      "29  2023-10-30          200\n",
      "30  2023-10-31          210\n"
     ]
    }
   ],
   "source": [
    "prompt = \"Generate synthetic daily sales data for a coffee shop for over 4 weeks, for product. Include date and total_sales. Show a realistic pattern with weekend peaks. Output in JSON form.\"\n",
    "\n",
    "response = client.chat.completions.create(\n",
    "    model=\"gpt-4o-mini\",\n",
    "    messages=[{\"role\": \"user\", \"content\": prompt}],\n",
    "    response_format={\"type\": \"json_object\"}\n",
    ")\n",
    "\n",
    "sales_data = json.loads(response.choices[0].message.content)\n",
    "df_sales = pd.DataFrame(clean(sales_data))\n",
    "print(df_sales)"
   ]
  }
 ],
 "metadata": {
  "kernelspec": {
   "display_name": "venv",
   "language": "python",
   "name": "python3"
  },
  "language_info": {
   "codemirror_mode": {
    "name": "ipython",
    "version": 3
   },
   "file_extension": ".py",
   "mimetype": "text/x-python",
   "name": "python",
   "nbconvert_exporter": "python",
   "pygments_lexer": "ipython3",
   "version": "3.11.9"
  }
 },
 "nbformat": 4,
 "nbformat_minor": 2
}
